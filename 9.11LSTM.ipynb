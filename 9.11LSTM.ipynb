{
 "cells": [
  {
   "cell_type": "markdown",
   "id": "21c6afd5-0fd5-4d25-b018-f7c8cb72199a",
   "metadata": {},
   "source": [
    "The purpose of this project is to classify the 10 hand-drawn digits using the Long Short-Term Memory neural network"
   ]
  },
  {
   "cell_type": "code",
   "execution_count": 5,
   "id": "09bc83ce-11ee-44d1-ad68-1fb74b47800c",
   "metadata": {},
   "outputs": [],
   "source": [
    "# Import necessary libraries \n",
    "# importing NumPy for numerical operations\n",
    "import numpy as np\n",
    "# importing deep leanring framework\n",
    "import tensorflow as tf\n",
    "# building neural networks\n",
    "import keras\n",
    "# module containig layers for networks\n",
    "from keras import layers\n",
    "# module for creating more complex model\n",
    "from keras import Model\n",
    "# import MNIST dataset\n",
    "from keras.datasets import mnist\n",
    "# for converting class vectors into binary class matrices\n",
    "from keras.utils import to_categorical "
   ]
  },
  {
   "cell_type": "code",
   "execution_count": 7,
   "id": "c07ebf40-3c8a-4399-b7ea-bebd39b91244",
   "metadata": {},
   "outputs": [
    {
     "name": "stdout",
     "output_type": "stream",
     "text": [
      "Epoch 1/15\n"
     ]
    },
    {
     "name": "stderr",
     "output_type": "stream",
     "text": [
      "2025-03-13 14:14:13.130282: W tensorflow/tsl/platform/profile_utils/cpu_utils.cc:128] Failed to get CPU frequency: 0 Hz\n"
     ]
    },
    {
     "name": "stdout",
     "output_type": "stream",
     "text": [
      "469/469 [==============================] - 6s 11ms/step - loss: 0.9255 - accuracy: 0.6772\n",
      "Epoch 2/15\n",
      "469/469 [==============================] - 5s 12ms/step - loss: 0.3075 - accuracy: 0.9075\n",
      "Epoch 3/15\n",
      "469/469 [==============================] - 5s 12ms/step - loss: 0.1979 - accuracy: 0.9424\n",
      "Epoch 4/15\n",
      "469/469 [==============================] - 5s 12ms/step - loss: 0.1538 - accuracy: 0.9561\n",
      "Epoch 5/15\n",
      "469/469 [==============================] - 5s 12ms/step - loss: 0.1311 - accuracy: 0.9632\n",
      "Epoch 6/15\n",
      "469/469 [==============================] - 5s 12ms/step - loss: 0.1139 - accuracy: 0.9678\n",
      "Epoch 7/15\n",
      "469/469 [==============================] - 5s 12ms/step - loss: 0.1030 - accuracy: 0.9707\n",
      "Epoch 8/15\n",
      "469/469 [==============================] - 6s 12ms/step - loss: 0.0913 - accuracy: 0.9738\n",
      "Epoch 9/15\n",
      "469/469 [==============================] - 6s 12ms/step - loss: 0.0862 - accuracy: 0.9762\n",
      "Epoch 10/15\n",
      "469/469 [==============================] - 6s 12ms/step - loss: 0.0786 - accuracy: 0.9778\n",
      "Epoch 11/15\n",
      "469/469 [==============================] - 6s 12ms/step - loss: 0.0722 - accuracy: 0.9795\n",
      "Epoch 12/15\n",
      "469/469 [==============================] - 6s 12ms/step - loss: 0.0683 - accuracy: 0.9808\n",
      "Epoch 13/15\n",
      "469/469 [==============================] - 6s 12ms/step - loss: 0.0621 - accuracy: 0.9826\n",
      "Epoch 14/15\n",
      "469/469 [==============================] - 6s 12ms/step - loss: 0.0600 - accuracy: 0.9831\n",
      "Epoch 15/15\n",
      "469/469 [==============================] - 6s 12ms/step - loss: 0.0576 - accuracy: 0.9842\n",
      "Accuracy: 98.28%\n"
     ]
    }
   ],
   "source": [
    "# Load mnist dataset and do processing\n",
    "(x_train, y_train), (x_test, y_test) = mnist.load_data()\n",
    "# Determine the number of unqiue labels \n",
    "num_labels = len(np.unique(y_train))\n",
    "\n",
    "# convert the labels into one-hot encoded vectors\n",
    "y_train = to_categorical(y_train, num_classes = num_labels)\n",
    "y_test = to_categorical(y_test, num_classes = num_labels)\n",
    "\n",
    "# Get the size of each image\n",
    "image_size = x_train.shape[1]\n",
    "\n",
    "# reshape the data to fit the input requirements of an RNN model \n",
    "x_train = np.reshape(x_train, [-1, image_size, image_size])\n",
    "x_test = np.reshape(x_test, [-1, image_size, image_size])\n",
    "\n",
    "# normalize the images \n",
    "x_train = x_train.astype('float32') / 255\n",
    "x_test = x_test.astype('float32') / 255\n",
    "\n",
    "input_shape = (image_size, image_size)\n",
    "\n",
    "# define the LSTM model\n",
    "model = tf.keras.models.Sequential([\n",
    "    # First LSTM layer with 32 units\n",
    "    tf.keras.layers.LSTM(32, input_shape=input_shape, return_sequences=True),\n",
    "    \n",
    "    # Second LSTM layer with 32 units\n",
    "    tf.keras.layers.LSTM(32),\n",
    "    \n",
    "    # Dropout layer with a 25% dropout rate to reduce overfitting\n",
    "    tf.keras.layers.Dropout(0.25),\n",
    "    \n",
    "    # Fully connected (dense) layer with 128 units and ReLU activation\n",
    "    tf.keras.layers.Dense(128, activation='relu'),\n",
    "    \n",
    "    # Another Dropout layer with a 25% dropout rate\n",
    "    tf.keras.layers.Dropout(0.25),\n",
    "    \n",
    "    # Fully connected layer with 64 units and ReLU activation\n",
    "    tf.keras.layers.Dense(64, activation='relu'),\n",
    "    \n",
    "    # Output layer with 10 units and softmax activation\n",
    "    tf.keras.layers.Dense(10, activation='softmax')\n",
    "])\n",
    "\n",
    "# Since we're using one-hot encoded labels, use categorical_crossentropy\n",
    "model.compile(optimizer='adam', \n",
    "              loss='categorical_crossentropy',  \n",
    "              metrics=[\"accuracy\"])  \n",
    "\n",
    "# Train with one-hot encoded labels\n",
    "model.fit(x_train, y_train, batch_size=128, epochs=15)\n",
    "\n",
    "# Evaluate the model \n",
    "scores = model.evaluate(x_test, y_test, verbose=0)\n",
    "print(f\"Accuracy: {scores[1] * 100:.2f}%\")"
   ]
  },
  {
   "cell_type": "code",
   "execution_count": null,
   "id": "4dbe83d4-1d0a-493f-a6a4-2b9692aacc8a",
   "metadata": {},
   "outputs": [],
   "source": []
  }
 ],
 "metadata": {
  "kernelspec": {
   "display_name": "Python (MachineLearning)",
   "language": "python",
   "name": "machinelearning"
  },
  "language_info": {
   "codemirror_mode": {
    "name": "ipython",
    "version": 3
   },
   "file_extension": ".py",
   "mimetype": "text/x-python",
   "name": "python",
   "nbconvert_exporter": "python",
   "pygments_lexer": "ipython3",
   "version": "3.11.5"
  }
 },
 "nbformat": 4,
 "nbformat_minor": 5
}
